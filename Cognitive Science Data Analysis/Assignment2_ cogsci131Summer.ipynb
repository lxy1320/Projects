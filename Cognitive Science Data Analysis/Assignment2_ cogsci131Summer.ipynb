{
 "cells": [
  {
   "cell_type": "code",
   "execution_count": 4,
   "metadata": {},
   "outputs": [
    {
     "name": "stdout",
     "output_type": "stream",
     "text": [
      "/Users/xiaoyingliu/Desktop\n"
     ]
    },
    {
     "data": {
      "text/plain": [
       "'/Users/xiaoyingliu/Desktop'"
      ]
     },
     "execution_count": 4,
     "metadata": {},
     "output_type": "execute_result"
    }
   ],
   "source": [
    "import numpy as np\n",
    "import matplotlib.pyplot as plt\n",
    "from scipy.spatial import distance\n",
    "import math\n",
    "%cd ''/Users/xiaoyingliu/desktop/''\n",
    "%pwd"
   ]
  },
  {
   "cell_type": "code",
   "execution_count": 5,
   "metadata": {},
   "outputs": [],
   "source": [
    "# 1.\n",
    "names = [\"football\",\"baseball\",\"basketball\",\"tennis\",\"softball\",\"canoeing\",\"handball\",\"rugby\",\"hockey\",\"ice hockey\",\"swimming\",\"track\",\"boxing\",\"volleyball\",\"lacrosse\",\"skiing\",\"golf\",\"polo\",\"surfing\",\"wrestling\",\"gymnastics\"]\n",
    "\n",
    "similarities = np.loadtxt(open(\"similarities.csv\", \"rb\"), delimiter=\",\", skiprows=1) # load the csv provided on bcourses\n",
    "#method 1 \n",
    "distances =  1-similarities\n",
    "opt2_distances=(-2)*(similarities)**2\n",
    "opt3_distances=(-2)*similarities\n",
    "#the 3 ways to convert distances to similarities are using 1-similarities, using (-2)*(similarities)**2, and using linear functions like (-2)*similarities. All of these functions are \n",
    "#decreasing monotonously since our distances are decreasing as similarities increasing.  I choose 1-similarities to be distances since this is the simplist \n",
    "#and easiest to calculate, also it is closer to our perceptual intutition.\n",
    "\n"
   ]
  },
  {
   "cell_type": "code",
   "execution_count": 6,
   "metadata": {},
   "outputs": [
    {
     "data": {
      "text/plain": [
       "21"
      ]
     },
     "execution_count": 6,
     "metadata": {},
     "output_type": "execute_result"
    }
   ],
   "source": [
    "D = 2 # How many dimensions we are going to use\n",
    "N = distances.shape[0] # the number of items\n",
    "assert(distances.shape[1] == N and N==len(names)) # be sure we loaded as many items as we have names for\n",
    "N\n",
    "\n"
   ]
  },
  {
   "cell_type": "code",
   "execution_count": 8,
   "metadata": {},
   "outputs": [
    {
     "ename": "SyntaxError",
     "evalue": "invalid syntax (<ipython-input-8-6bb57f35740b>, line 16)",
     "output_type": "error",
     "traceback": [
      "\u001b[0;36m  File \u001b[0;32m\"<ipython-input-8-6bb57f35740b>\"\u001b[0;36m, line \u001b[0;32m16\u001b[0m\n\u001b[0;31m    psy.append(distances[i,j]）\u001b[0m\n\u001b[0m      ^\u001b[0m\n\u001b[0;31mSyntaxError\u001b[0m\u001b[0;31m:\u001b[0m invalid syntax\n"
     ]
    }
   ],
   "source": [
    "#2.Write the code that follows a gradient in order to find positions that minimize the stress. You may use the template provided if you want, \n",
    "#but you do not need to. Plot the sport names at the resulting coordinates.\n",
    "def dist(a,b):\n",
    "    # Compute the Euclidean distance between two locations (numpy arrays) a and b\n",
    "    # Thus, dist(pos[1], pos[2]) gives the distance between the locations for items 1 and 2\n",
    "    mdps = distances.euclidean(a,b)\n",
    "    return mdps\n",
    "    \n",
    "def stress(p):\n",
    "    # Take a matrix of positions (called here \"p\") and return the stress\n",
    "    psy= []\n",
    "    mdps= []\n",
    "    for i in range(0,20):\n",
    "        for j in range(i+1,21): #in total 21 items\n",
    "            mdps.append(dist(p[i],p[j])\n",
    "            psy.append( distances[i,j] ）\n",
    "    tmp=np.array(psy)-np.array(mdps)\n",
    "    stress=np.sum(tmp**2)\n",
    "    return stress\n",
    "            \n",
    "\n",
    "def add_delta(p, i, d, delta):\n",
    "    # This is a helper function that will make a new vector which is the same as p (a position matrix), except that\n",
    "    # p[i,d] has been increased by delta\n",
    "    v = numpy.array(p)\n",
    "    v[i, d] += delta\n",
    "    return v\n",
    "\n",
    "                           \n",
    "def subtract_delta(p, i, d, delta):\n",
    "# This is a helper function that will make a new vector which is the same as p (a # p[i,d] has been increased by delta (which may be positive or negative)\n",
    "    v = np.array(p)\n",
    "    v[i, d] -= delta\n",
    "    return v\n",
    "                           \n",
    "                           \n",
    "def compute_gradient(p, i,d, delta = 0.001):\n",
    "    # compute the gradient of the stress function with repect to the [i,d] entry of a position matrix p\n",
    "    # (e.g. the derivative of stress with respect to the i'th coordinate of the x'th dimension)\n",
    "    # Here, to compute numerically, you can use the fact that\n",
    "    # f'(x) = (f(x+delta)-f(x-delta))/(2 delta) as delta -> 0\n",
    "       ## *FILL IN*\n",
    "    gradient=(stress(add_delta(p,i,d,delta=0.001))-stress(subtract_delta(p,i,d,delta=0.001))\n",
    "    return gradient\n",
    "    "
   ]
  },
  {
   "cell_type": "code",
   "execution_count": 58,
   "metadata": {},
   "outputs": [
    {
     "ename": "SyntaxError",
     "evalue": "invalid syntax (<ipython-input-58-c92cf0ff25d1>, line 8)",
     "output_type": "error",
     "traceback": [
      "\u001b[0;36m  File \u001b[0;32m\"<ipython-input-58-c92cf0ff25d1>\"\u001b[0;36m, line \u001b[0;32m8\u001b[0m\n\u001b[0;31m    psydis.append(distances[i,j]）\u001b[0m\n\u001b[0m         ^\u001b[0m\n\u001b[0;31mSyntaxError\u001b[0m\u001b[0;31m:\u001b[0m invalid syntax\n"
     ]
    }
   ],
   "source": [
    "def stress(p):\n",
    "    # Take a matrix of positions (called here \"p\") and return the stress\n",
    "    psydis= []\n",
    "    mdps= []\n",
    "    for i in range(0,20):\n",
    "        for j in range(i+1,21): #in total 21 items\n",
    "            mdps.append(dist(p[i],p[j])\n",
    "            psydis.append(distances[i,j]）\n",
    "    tmp=np.array(psydis)-np.array(mdps)\n",
    "    stress=np.sum(tmp**2)\n",
    "    return stress"
   ]
  },
  {
   "cell_type": "code",
   "execution_count": 65,
   "metadata": {},
   "outputs": [
    {
     "data": {
      "text/plain": [
       "[0.407407407407407]"
      ]
     },
     "execution_count": 65,
     "metadata": {},
     "output_type": "execute_result"
    }
   ],
   "source": []
  },
  {
   "cell_type": "code",
   "execution_count": null,
   "metadata": {},
   "outputs": [],
   "source": [
    "\n",
    "def compute_full_gradient(p):\n",
    "    # Numerically compute the full gradient of stress at a position p\n",
    "    # This should return a matrix whose elements are the gradient of stress at p with respect to each [i,d] coordinate\n",
    "  \n",
    "\t## *FILL IN*\n",
    "    \n",
    "    full_gradient=np.zeros((np.array(p).shape)) \n",
    "    for i in range(21):\n",
    "        for j in range(2): \n",
    "            full_gradient[i,j]=compute_gradient(p,i,j,delta=0.001)\n",
    "    return full_gradient\n",
    "\n",
    "\n",
    "# Pick a position for each point. Note this is an NxD matrix\n",
    "# so that pos[11,1] is the y coordinate for the 11th item\n",
    "# and pos[11] is a (row) vector for the position of the 11th item\n",
    "pos = numpy.random.normal(0.0,1.0,size=(N,D))\n",
    "\n",
    "\n"
   ]
  },
  {
   "cell_type": "code",
   "execution_count": null,
   "metadata": {},
   "outputs": [],
   "source": [
    "# Now go through and adjust the position to minimize the stress\n",
    "pos# start positions\n",
    "rate=0.01 #learning rate max_iters=1000\n",
    "iters=0# iternation counter \n",
    "cur=pos\n",
    "\n",
    "while iters< max_iters:\n",
    "cur = cur- rate * compute_full_gradient(cur) #Grad descent \n",
    "iters = iters+1 #iteration count\n",
    "#plot example with annotation \n",
    "cur=np.transpose(cur)\n",
    "x=cur[0]\n",
    "y=cur[1]\n",
    "n=names\n",
    "fig, ax = plt.subplots()\n",
    "ax.scatter(x,y)\n",
    "\n",
    "\n",
    "for i, txt in enumerate(names): \n",
    "    ax.annotate(txt, (x[i], y[i]))\n",
    "\n"
   ]
  },
  {
   "cell_type": "code",
   "execution_count": null,
   "metadata": {},
   "outputs": [],
   "source": [
    "#2.Do the result agree with expectation?\n",
    "#Yes, the result pretty much meet the expectation with my psychological distance. Sinc #in one cluster, boxing and Wrestling are indeed th most similar."
   ]
  },
  {
   "cell_type": "code",
   "execution_count": null,
   "metadata": {},
   "outputs": [],
   "source": [
    "#3. In your run, make a scatter plot of the the pairwise distances MDS found vs. people’s reported distances. Describe whether it looks good or bad.\n"
   ]
  },
  {
   "cell_type": "code",
   "execution_count": null,
   "metadata": {},
   "outputs": [],
   "source": [
    "#4. Plot the stress over iterations of your MDS. How should you use this plot i , how many iterations are needed?\n",
    "#I might need 2000-3000 iterations to capture the local minimum. The plot would be a d\n",
    "#I decided to select the cut off when there are 2000 iterations."
   ]
  },
  {
   "cell_type": "code",
   "execution_count": null,
   "metadata": {},
   "outputs": [],
   "source": [
    "#5. [10pts] Run the MDS code you wrote 5 times and show small plots, starting from ran #positions. Are they all the same or not? Why?\n",
    "#No, they are not the same. Since gradient descent would help us find local minimum in #might converge at different local minimms.\n"
   ]
  },
  {
   "cell_type": "code",
   "execution_count": null,
   "metadata": {},
   "outputs": [],
   "source": [
    "#56If you wanted to find one best answer but had run MDS 5 times, how would you pick t #best? Why?\n",
    "#I would pick the minimum of the stress out of all stresses generated. This would the\n",
    "#plotted would be the closest to reported similarites."
   ]
  }
 ],
 "metadata": {
  "kernelspec": {
   "display_name": "Python 3",
   "language": "python",
   "name": "python3"
  },
  "language_info": {
   "codemirror_mode": {
    "name": "ipython",
    "version": 3
   },
   "file_extension": ".py",
   "mimetype": "text/x-python",
   "name": "python",
   "nbconvert_exporter": "python",
   "pygments_lexer": "ipython3",
   "version": "3.7.1"
  }
 },
 "nbformat": 4,
 "nbformat_minor": 2
}
