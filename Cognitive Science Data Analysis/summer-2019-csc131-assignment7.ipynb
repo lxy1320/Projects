{
 "cells": [
  {
   "cell_type": "code",
   "execution_count": 211,
   "metadata": {},
   "outputs": [
    {
     "name": "stdout",
     "output_type": "stream",
     "text": [
      "/Users/xiaoyingliu/Desktop\n"
     ]
    }
   ],
   "source": [
    "import numpy as np\n",
    "import math\n",
    "import pandas as pd\n",
    "import string\n",
    "import matplotlib.pyplot as plt\n",
    "import re\n",
    "import operator\n",
    "%cd '/Users/xiaoyingliu/desktop'"
   ]
  },
  {
   "cell_type": "code",
   "execution_count": 279,
   "metadata": {},
   "outputs": [],
   "source": [
    "#1.What is the entropy over words in English?\n",
    "words=pd.read_csv('WordFrequencies.csv', header=None, index_col=0, squeeze=True).to_dict()\n",
    "words= {str(k):float(v) for k,v in words.items()}"
   ]
  },
  {
   "cell_type": "code",
   "execution_count": 280,
   "metadata": {},
   "outputs": [],
   "source": [
    "def compute_entropy(words):\n",
    "    entropy=0\n",
    "    for i in words:\n",
    "        prob=words[i] #get the probability\n",
    "        entropy+=prob*np.log2(1./prob)\n",
    "    return entropy\n",
    "    "
   ]
  },
  {
   "cell_type": "code",
   "execution_count": 214,
   "metadata": {},
   "outputs": [],
   "source": [
    "def normalization(words):\n",
    "    factor=1.0/sum(words.values())\n",
    "    for k in words:\n",
    "        words[k] = words[k]*factor\n",
    "    return words"
   ]
  },
  {
   "cell_type": "code",
   "execution_count": 282,
   "metadata": {},
   "outputs": [],
   "source": [
    "normalized_words=normalization(words)"
   ]
  },
  {
   "cell_type": "code",
   "execution_count": 284,
   "metadata": {},
   "outputs": [
    {
     "data": {
      "text/plain": [
       "11.488297514501706"
      ]
     },
     "execution_count": 284,
     "metadata": {},
     "output_type": "execute_result"
    }
   ],
   "source": [
    "compute_entropy(normalized_words)"
   ]
  },
  {
   "cell_type": "code",
   "execution_count": 285,
   "metadata": {},
   "outputs": [],
   "source": [
    "#2.Using your answer from Q1, decide whether the game “20 questions”1 is a fair game—can\n",
    "#you win more than half the time—assuming (a) if the word being guessed is chosen according to\n",
    "#frequency, and (b) if the word is chosen uniformly\n",
    "#(a) if the word is chosen according to frequency, we already get the entropy of the words in #1 as 11.4882975 which is less than 20. Thus the 20 \n",
    "#question game is fair under such circumstances, since we will only need 12 bits of information to get the certain result( which is equivalent to asking\n",
    "#12 questions). And we can actually ask 20 questions and obtain 20 bits of informtion. Thus on average we win each time. \n",
    "#(b) \n",
    "word_count=len(words.keys())\n",
    "for k in words:\n",
    "    words[k]=1/word_count\n",
    "uniform_words=words"
   ]
  },
  {
   "cell_type": "code",
   "execution_count": 286,
   "metadata": {},
   "outputs": [
    {
     "data": {
      "text/plain": [
       "15.080984034059139"
      ]
     },
     "execution_count": 286,
     "metadata": {},
     "output_type": "execute_result"
    }
   ],
   "source": [
    "compute_entropy(uniform_words)\n",
    "#similarly, 20 questions is still a fair game, since we need to obtain 16 bits of information to get a certain outcome which is smaller than the number \n",
    "#of questions we can ask."
   ]
  },
  {
   "cell_type": "code",
   "execution_count": 290,
   "metadata": {},
   "outputs": [],
   "source": [
    "words=pd.read_csv('WordFrequencies.csv', header=None, index_col=0, squeeze=True).to_dict()\n",
    "words= {str(k):float(v) for k,v in words.items()}\n",
    "normalized_words=normalization(words)"
   ]
  },
  {
   "cell_type": "code",
   "execution_count": 291,
   "metadata": {},
   "outputs": [],
   "source": [
    "#3.Make a plot of the conditional entropy over words in English, conditioning on the first\n",
    "#character (e.g. one bar for “a”, one for “b”, one for “c”, etc.).\n",
    "#construct dics\n",
    "chars=list(string.ascii_lowercase)\n",
    "all_fl_dics=[]  #all 26 dictionaries generated.will append in order of a,b,c.....\n",
    "def fl_generator(words):\n",
    "    for i in chars:\n",
    "        new={}\n",
    "        for j in list(words.keys()):\n",
    "            if i==j[0]:\n",
    "                new.update({j:words[j]}) #takes in a dic\n",
    "        all_fl_dics.append(new)  \n",
    "    return all_fl_dics"
   ]
  },
  {
   "cell_type": "code",
   "execution_count": 292,
   "metadata": {},
   "outputs": [],
   "source": [
    "all_fl_dics=fl_generator(normalized_words)"
   ]
  },
  {
   "cell_type": "code",
   "execution_count": 293,
   "metadata": {},
   "outputs": [],
   "source": [
    "#compute conditional entropy \n",
    "def compute_conditional_entropy(all_fl_dics):\n",
    "    p_list=[]\n",
    "    y=[]\n",
    "    for i in all_fl_dics:\n",
    "        p_list.append(sum(i.values()))\n",
    "    for i in all_fl_dics:\n",
    "        i=normalization(i)\n",
    "    condi_e=0\n",
    "    for i in range(0,len(all_fl_dics)):\n",
    "        y.append(compute_entropy(all_fl_dics[i])*p_list[i])\n",
    "        condi_e+=compute_entropy(all_fl_dics[i])*p_list[i]\n",
    "    return condi_e,y"
   ]
  },
  {
   "cell_type": "code",
   "execution_count": 294,
   "metadata": {},
   "outputs": [],
   "source": [
    "fl_entropy=compute_conditional_entropy(all_fl_dics)[0]"
   ]
  },
  {
   "cell_type": "code",
   "execution_count": 295,
   "metadata": {},
   "outputs": [
    {
     "data": {
      "text/plain": [
       "[<matplotlib.lines.Line2D at 0x11e7ab630>]"
      ]
     },
     "execution_count": 295,
     "metadata": {},
     "output_type": "execute_result"
    },
    {
     "data": {
      "image/png": "[encoded data removed]",
      "text/plain": [
       "<Figure size 432x288 with 1 Axes>"
      ]
     },
     "metadata": {
      "needs_background": "light"
     },
     "output_type": "display_data"
    }
   ],
   "source": [
    "x=range(0,26)\n",
    "y=compute_conditional_entropy(all_fl_dics)[1]\n",
    "plt.plot(x,y)"
   ]
  },
  {
   "cell_type": "code",
   "execution_count": 296,
   "metadata": {},
   "outputs": [],
   "source": [
    "#4.Plot the information about word identity that is conveyed by (1) the first character, (2) the\n",
    "#last character, or (3) the first vowel (aeiou). Which of these would you predict then is most important\n",
    "#for word recognition?\n",
    "H_words=compute_entropy(normalized_words)\n",
    "#(a)\n",
    "fl_info=H_words-fl_entropy"
   ]
  },
  {
   "cell_type": "code",
   "execution_count": 297,
   "metadata": {},
   "outputs": [
    {
     "data": {
      "text/plain": [
       "4.338063902281873"
      ]
     },
     "execution_count": 297,
     "metadata": {},
     "output_type": "execute_result"
    }
   ],
   "source": [
    "fl_info"
   ]
  },
  {
   "cell_type": "code",
   "execution_count": 298,
   "metadata": {},
   "outputs": [],
   "source": [
    "#(b)\n",
    "#ll_generator, get all_ll_dics, and get ll_infor=ll_entropy-ll_conditional_entropy\n",
    "all_ll_dics=[]\n",
    "def ll_generator(words):\n",
    "    for i in chars:\n",
    "        new={}\n",
    "        for j in list(words.keys()):\n",
    "            if i==j[len(j)-1]:\n",
    "                new.update({j:words[j]}) #takes in a dic\n",
    "        all_ll_dics.append(new)  \n",
    "    return all_ll_dics"
   ]
  },
  {
   "cell_type": "code",
   "execution_count": 299,
   "metadata": {},
   "outputs": [],
   "source": [
    "all_ll_dics=ll_generator(normalized_words)"
   ]
  },
  {
   "cell_type": "code",
   "execution_count": 263,
   "metadata": {},
   "outputs": [],
   "source": [
    "ll_entropy=compute_conditional_entropy(all_ll_dics)[0]"
   ]
  },
  {
   "cell_type": "code",
   "execution_count": 300,
   "metadata": {},
   "outputs": [],
   "source": [
    "ll_info=H_words-ll_entropy "
   ]
  },
  {
   "cell_type": "code",
   "execution_count": 301,
   "metadata": {},
   "outputs": [
    {
     "data": {
      "text/plain": [
       "0.1288473243195245"
      ]
     },
     "execution_count": 301,
     "metadata": {},
     "output_type": "execute_result"
    }
   ],
   "source": [
    "ll_info"
   ]
  },
  {
   "cell_type": "code",
   "execution_count": 302,
   "metadata": {},
   "outputs": [],
   "source": [
    "#(c)\n",
    "#fv_generator, get all_fv_dics, and get fv_info=fv_entropy-fv_conditional_entropy\n",
    "all_fv_dics=[]\n",
    "vowels=['a','e','i','o','u']\n",
    "def fv_generator(words):\n",
    "    for each in vowels:\n",
    "        new={}\n",
    "        for k in list(words.keys()):\n",
    "            fv_pos = [ i for i,v in enumerate(k) if v.lower() in vowels ]\n",
    "            if not fv_pos ==[]:\n",
    "                if k[fv_pos[0]]==each:\n",
    "                    new.update({k:words[k]}) #takes in a dic\n",
    "        all_fv_dics.append(new)  \n",
    "    return all_fv_dics\n",
    "    "
   ]
  },
  {
   "cell_type": "code",
   "execution_count": 303,
   "metadata": {},
   "outputs": [],
   "source": [
    "all_fv_dics=fv_generator(normalized_words)"
   ]
  },
  {
   "cell_type": "code",
   "execution_count": 304,
   "metadata": {},
   "outputs": [],
   "source": [
    "fv_entropy=compute_conditional_entropy(all_fv_dics)[0]"
   ]
  },
  {
   "cell_type": "code",
   "execution_count": 305,
   "metadata": {},
   "outputs": [],
   "source": [
    "fv_info=H_words-fv_entropy"
   ]
  },
  {
   "cell_type": "code",
   "execution_count": 306,
   "metadata": {},
   "outputs": [
    {
     "data": {
      "text/plain": [
       "2.4492926945595723"
      ]
     },
     "execution_count": 306,
     "metadata": {},
     "output_type": "execute_result"
    }
   ],
   "source": [
    "fv_info"
   ]
  },
  {
   "cell_type": "code",
   "execution_count": 307,
   "metadata": {},
   "outputs": [
    {
     "data": {
      "image/png": "[encoded data removed]",
      "text/plain": [
       "<Figure size 432x288 with 1 Axes>"
      ]
     },
     "metadata": {
      "needs_background": "light"
     },
     "output_type": "display_data"
    }
   ],
   "source": [
    "info_list=[fl_info,ll_info,fv_info]\n",
    "x=range(0,3)\n",
    "plt.plot(x,info_list)\n",
    "plt.show()\n",
    "#According to the plot, the most important indicator for words is the last letter. Since the last letter contain the smallest information \n",
    "#out of the three."
   ]
  },
  {
   "cell_type": "code",
   "execution_count": 308,
   "metadata": {},
   "outputs": [],
   "source": [
    "#5.For each word length (1, 2, 3, …) plot the average surprisal of words that are that length (i.e.\n",
    "#plot the averages, not a point for each word). Generally, what would this plot look like if English were\n",
    "#an efficient code in Shannon's sense? Qualitatively describe in 1-2 sentences places where your plot\n",
    "#does or does not agree with an efficient code.\n",
    "def average_surprisal(words):\n",
    "    sum_of_surprisal=0\n",
    "    for i in words:\n",
    "        sum_of_surprisal+=np.log(1./words[i])\n",
    "    return sum_of_surprisal/len(words)\n",
    "\n",
    "    \n",
    "all_eq_dics=[]  \n",
    "def equal_len_generator(words): #tested that max length is 37 \n",
    "    for i in range(0,37):\n",
    "        new={}\n",
    "        for j in list(words.keys()):\n",
    "            if len(j)==i:\n",
    "                new.update({j:words[j]})  \n",
    "        all_eq_dics.append(new)\n",
    "    return all_eq_dics"
   ]
  },
  {
   "cell_type": "code",
   "execution_count": 309,
   "metadata": {},
   "outputs": [],
   "source": [
    "all_eq_dics=equal_len_generator(normalized_words)\n",
    "while {} in all_eq_dics:\n",
    "    all_eq_dics.remove({}) # remove the lengths where there are no words"
   ]
  },
  {
   "cell_type": "code",
   "execution_count": 310,
   "metadata": {},
   "outputs": [],
   "source": [
    "avgs=[]\n",
    "for i in all_eq_dics:\n",
    "    avgs.append(average_surprisal(i))"
   ]
  },
  {
   "cell_type": "code",
   "execution_count": 311,
   "metadata": {},
   "outputs": [
    {
     "data": {
      "text/plain": [
       "[<matplotlib.lines.Line2D at 0x118f987b8>]"
      ]
     },
     "execution_count": 311,
     "metadata": {},
     "output_type": "execute_result"
    },
    {
     "data": {
      "image/png": "[encoded data removed]",
      "text/plain": [
       "<Figure size 432x288 with 1 Axes>"
      ]
     },
     "metadata": {
      "needs_background": "light"
     },
     "output_type": "display_data"
    }
   ],
   "source": [
    "#make plots for average surprisal and explanation\n",
    "plt.plot(range(0,29),avgs)"
   ]
  },
  {
   "cell_type": "code",
   "execution_count": null,
   "metadata": {},
   "outputs": [],
   "source": [
    "# In shannon's sense, according to ppt, higher probability events have shorter codewords, while lower probability events have longer codewords. \n",
    "#For instance, words starting with first letter as z are relatively fewer, this is a low probability event, and its codewords are quite long. This makes \n",
    "#perfect sense. English is an efficient code."
   ]
  },
  {
   "cell_type": "code",
   "execution_count": 241,
   "metadata": {},
   "outputs": [],
   "source": [
    "#6. Perhaps the most frequent words are “more optimized” to be like an efficient\n",
    "#code. Come up with a measure of how well word length agrees with surprisal (as in Q5), and plot that\n",
    "#measure for the most frequent N words, N=10, 20, 30, ... for the entire lexicon (each plotted set here\n",
    "#should be cumulative, including words 1 through N). What does your plot indicate about this\n",
    "#possibility?\n",
    "\n",
    "#Measurement. I will rearrange the dictionary with descending frequency of words. Then I can get the average surprisal for the most frequent N words\n",
    "#(N=10,20,30...cumulative). I will be getting the average length for the most frequent N words. And plot these two variables accordingly to see if they \n",
    "#follow a linear pattern. "
   ]
  },
  {
   "cell_type": "code",
   "execution_count": 242,
   "metadata": {},
   "outputs": [],
   "source": [
    "words=pd.read_csv('WordFrequencies.csv', header=None, index_col=0, squeeze=True).to_dict()\n",
    "words= {str(k):float(v) for k,v in words.items()}\n",
    "normalized_words=normalization(words)"
   ]
  },
  {
   "cell_type": "code",
   "execution_count": 200,
   "metadata": {},
   "outputs": [],
   "source": [
    "sorted_words = sorted(words.items(), key=lambda x: x[1])"
   ]
  },
  {
   "cell_type": "code",
   "execution_count": 243,
   "metadata": {},
   "outputs": [],
   "source": [
    "sorted_words=sorted_words[::-1]"
   ]
  },
  {
   "cell_type": "code",
   "execution_count": 244,
   "metadata": {},
   "outputs": [],
   "source": [
    "#compute avg surprisal on sorted dic\n",
    "def compute_avg_surp(sorted_words):\n",
    "    i=10\n",
    "    avg_surp=[]\n",
    "    while i< len(sorted_words):\n",
    "        avg_surp.append(average_surprisal(dict(sorted_words[0:i])))\n",
    "        i+=10\n",
    "    return avg_surp"
   ]
  },
  {
   "cell_type": "code",
   "execution_count": 206,
   "metadata": {},
   "outputs": [],
   "source": [
    "avg_surp=compute_avg_surp(sorted_words)"
   ]
  },
  {
   "cell_type": "code",
   "execution_count": 208,
   "metadata": {},
   "outputs": [],
   "source": [
    "#compute avg word length on sorted dic\n",
    "def compute_avg_len(sorted_words):\n",
    "    avg_len=[]\n",
    "    i=10\n",
    "    while i<len(sorted_words):\n",
    "        sum=0\n",
    "        for j in dict(sorted_words[0:i]).keys():\n",
    "            sum+=len(j)\n",
    "        avg_len.append(sum/i)\n",
    "        i+=10\n",
    "    return avg_len"
   ]
  },
  {
   "cell_type": "code",
   "execution_count": 209,
   "metadata": {},
   "outputs": [],
   "source": [
    "avg_len=compute_avg_len(sorted_words)"
   ]
  },
  {
   "cell_type": "code",
   "execution_count": 210,
   "metadata": {},
   "outputs": [
    {
     "data": {
      "image/png": "[encoded data removed]",
      "text/plain": [
       "<Figure size 432x288 with 1 Axes>"
      ]
     },
     "metadata": {
      "needs_background": "light"
     },
     "output_type": "display_data"
    }
   ],
   "source": [
    "plt.plot(avg_len,avg_surp)\n",
    "plt.show()"
   ]
  },
  {
   "cell_type": "code",
   "execution_count": null,
   "metadata": {},
   "outputs": [],
   "source": [
    "#conclusion: the codelength and actual length of the most frequent words in English are perfectly positive related, which means that \n",
    "#most frequent words are “more optimized” to be like an efficient code makes sense. "
   ]
  }
 ],
 "metadata": {
  "kernelspec": {
   "display_name": "Python 3",
   "language": "python",
   "name": "python3"
  },
  "language_info": {
   "codemirror_mode": {
    "name": "ipython",
    "version": 3
   },
   "file_extension": ".py",
   "mimetype": "text/x-python",
   "name": "python",
   "nbconvert_exporter": "python",
   "pygments_lexer": "ipython3",
   "version": "3.7.1"
  }
 },
 "nbformat": 4,
 "nbformat_minor": 2
}
