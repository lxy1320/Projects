{
 "cells": [
  {
   "cell_type": "code",
   "execution_count": 94,
   "metadata": {},
   "outputs": [],
   "source": [
    "import random\n",
    "import numpy as np\n",
    "import math\n",
    "import sympy\n",
    "import matplotlib.pyplot as plt\n",
    "import operator"
   ]
  },
  {
   "cell_type": "code",
   "execution_count": 95,
   "metadata": {},
   "outputs": [],
   "source": [
    "def square_or_not(x):\n",
    "    root=math.sqrt(x)\n",
    "    if int(root+0.5)**2==x:\n",
    "        return x"
   ]
  },
  {
   "cell_type": "code",
   "execution_count": 96,
   "metadata": {},
   "outputs": [],
   "source": [
    "#representations of priors as lists.\n",
    "h=list(range(1,101))\n",
    "#H1\n",
    "h1=[i for i in h if i%2==0]\n",
    "#H2\n",
    "h2=[i for i in h if i%2!=0]\n",
    "#H3\n",
    "h3=[]\n",
    "for i in h:\n",
    "    h3.append(square_or_not(i))\n",
    "h3=[x for x in h3 if x is not None]\n",
    "#H4\n",
    "h4=[]\n",
    "h4=list(sympy.sieve.primerange(1, 101))\n",
    "#H5\n",
    "h5=[i for i in h if i%5==0]\n",
    "#H6\n",
    "h6=[i for i in h if i%10==0]\n",
    "all_h=[h1,h2,h3,h4,h5,h6]\n"
   ]
  },
  {
   "cell_type": "code",
   "execution_count": 97,
   "metadata": {},
   "outputs": [],
   "source": [
    "#1 [5pts]: Write a function that takes an argument x, a hypothesis (however you represent it) and\n",
    "#computes a size principle likelihood (e.g. where the likelihood of each number in the set is equal).\n",
    "#Write down what likelihood each hypothesis assigns to each data point in it. What does each hypothesis\n",
    "#assign to data points not in it?\n",
    "def likelihood(x,h):\n",
    "    if set(x).issubset(set(h)):\n",
    "        n=sum(np.isin(x,h))\n",
    "        likelihood=(1/len(h))**n\n",
    "        return likelihood\n",
    "    else:\n",
    "        return 0\n",
    "#for datapoints not in the hypothesis the likelihood is assigned to zero"
   ]
  },
  {
   "cell_type": "code",
   "execution_count": 98,
   "metadata": {},
   "outputs": [],
   "source": [
    "#write a posterior function\n",
    "def posterior(x,h):# here h is a list of priors(list of list)\n",
    "    valid_hypo=0\n",
    "    post=[]\n",
    "    for i in h:#(i is one of the priors) count total effective priors\n",
    "        if set(x).issubset(set(i)):\n",
    "            valid_hypo+=1\n",
    "    if not valid_hypo==0:\n",
    "        valid_prior=1/valid_hypo\n",
    "    else:\n",
    "        valid_prior=0\n",
    "    for j in h:\n",
    "            post.append(likelihood(x,j)*valid_prior)\n",
    "    return post"
   ]
  },
  {
   "cell_type": "code",
   "execution_count": 99,
   "metadata": {
    "scrolled": false
   },
   "outputs": [],
   "source": [
    "#2.Write a sentence for each plot about whether the model does or does not capture your intuitions about the “right” answer.\n",
    "x_axis=[1,2,3,4,5,6]\n",
    "bars=['even','odd','square','prime','multiple of 5','multiple of 10']\n",
    "x1=[]\n",
    "y1=posterior(x1,all_h)\n",
    "\n",
    "x2=[50]\n",
    "y2=posterior(x2,all_h)\n",
    "\n",
    "x3=[53]\n",
    "y3=posterior(x3,all_h)\n",
    "\n",
    "x4=[50,53]\n",
    "y4=posterior(x4,all_h)\n",
    "\n",
    "x5=[16]\n",
    "y5=posterior(x5,all_h)\n",
    "\n",
    "x6=[10,20]\n",
    "y6=posterior(x6,all_h)\n",
    "\n",
    "x7=[2,4,8]\n",
    "y7=posterior(x7,all_h)\n",
    "\n",
    "x8=[2,4,8,10]\n",
    "y8=posterior(x8,all_h)\n",
    "\n",
    "posterior_sum=y1+y2+y3+y4+y5+y6"
   ]
  },
  {
   "cell_type": "code",
   "execution_count": 100,
   "metadata": {},
   "outputs": [],
   "source": [
    "#normalization needed before plotting\n",
    "y1=[i/sum(y1) for i in y1]\n",
    "y2=[i/sum(y2) for i in y2]\n",
    "y3=[i/sum(y3) for i in y3]\n",
    "y5=[i/sum(y5) for i in y5]\n",
    "y6=[i/sum(y6) for i in y6]\n",
    "y7=[i/sum(y7) for i in y7]\n",
    "y8=[i/sum(y8) for i in y8]"
   ]
  },
  {
   "cell_type": "code",
   "execution_count": 101,
   "metadata": {},
   "outputs": [
    {
     "data": {
      "text/plain": [
       "<function matplotlib.pyplot.show(*args, **kw)>"
      ]
     },
     "execution_count": 101,
     "metadata": {},
     "output_type": "execute_result"
    },
    {
     "data": {
      "image/png": "[encoded data removed]",
      "text/plain": [
       "<Figure size 432x288 with 1 Axes>"
      ]
     },
     "metadata": {
      "needs_background": "light"
     },
     "output_type": "display_data"
    }
   ],
   "source": [
    "#2(a)\n",
    "plt.bar(x_axis, y1, align='center', alpha=0.5)\n",
    "plt.xticks(x_axis,bars)\n",
    "plt.title('2(a)')\n",
    "plt.show\n",
    "#with no data, there is no information indicating which hypothesis it comes from, so it could be any hypothesis. "
   ]
  },
  {
   "cell_type": "code",
   "execution_count": 102,
   "metadata": {},
   "outputs": [
    {
     "data": {
      "text/plain": [
       "<function matplotlib.pyplot.show(*args, **kw)>"
      ]
     },
     "execution_count": 102,
     "metadata": {},
     "output_type": "execute_result"
    },
    {
     "data": {
      "image/png": "[encoded data removed]",
      "text/plain": [
       "<Figure size 432x288 with 1 Axes>"
      ]
     },
     "metadata": {
      "needs_background": "light"
     },
     "output_type": "display_data"
    }
   ],
   "source": [
    "#2(b)\n",
    "plt.bar(x_axis, y2, align='center', alpha=0.5)\n",
    "plt.xticks(x_axis,bars)\n",
    "plt.title('2(b)')\n",
    "plt.show\n",
    "#50 is give, it cannot be odd number, it cannot be prime, the other posteriors are reasonble too. "
   ]
  },
  {
   "cell_type": "code",
   "execution_count": 103,
   "metadata": {},
   "outputs": [
    {
     "data": {
      "text/plain": [
       "<function matplotlib.pyplot.show(*args, **kw)>"
      ]
     },
     "execution_count": 103,
     "metadata": {},
     "output_type": "execute_result"
    },
    {
     "data": {
      "image/png": "[encoded data removed]",
      "text/plain": [
       "<Figure size 432x288 with 1 Axes>"
      ]
     },
     "metadata": {
      "needs_background": "light"
     },
     "output_type": "display_data"
    }
   ],
   "source": [
    "#2(c)\n",
    "plt.bar(x_axis, y3, align='center', alpha=0.5)\n",
    "plt.xticks(x_axis,bars)\n",
    "plt.title('2(c)')\n",
    "plt.show\n",
    "#with 53 give, it cannot be even number ,it cannot be square etc, other posteriors are reasonable as well. "
   ]
  },
  {
   "cell_type": "code",
   "execution_count": 104,
   "metadata": {},
   "outputs": [
    {
     "data": {
      "text/plain": [
       "<function matplotlib.pyplot.show(*args, **kw)>"
      ]
     },
     "execution_count": 104,
     "metadata": {},
     "output_type": "execute_result"
    },
    {
     "data": {
      "image/png": "[encoded data removed]",
      "text/plain": [
       "<Figure size 432x288 with 1 Axes>"
      ]
     },
     "metadata": {
      "needs_background": "light"
     },
     "output_type": "display_data"
    }
   ],
   "source": [
    "#2(d)\n",
    "plt.bar(x_axis, y4, align='center', alpha=0.5)\n",
    "plt.xticks(x_axis,bars)\n",
    "plt.title('2(d)')\n",
    "plt.show\n",
    "#with 50,53 given, it cannot be odd ,cannot be even, cannot be square, cannot be prime ,and the rest of the two hypothesis are impossible either. thus \n",
    "#it is reasonable to say that it deos not come from any of the hypothesis. "
   ]
  },
  {
   "cell_type": "code",
   "execution_count": 105,
   "metadata": {},
   "outputs": [
    {
     "data": {
      "text/plain": [
       "<function matplotlib.pyplot.show(*args, **kw)>"
      ]
     },
     "execution_count": 105,
     "metadata": {},
     "output_type": "execute_result"
    },
    {
     "data": {
      "image/png": "[encoded data removed]",
      "text/plain": [
       "<Figure size 432x288 with 1 Axes>"
      ]
     },
     "metadata": {
      "needs_background": "light"
     },
     "output_type": "display_data"
    }
   ],
   "source": [
    "#2(e)\n",
    "plt.bar(x_axis, y5, align='center', alpha=0.5)\n",
    "plt.xticks(x_axis,bars)\n",
    "plt.title('2(e)')\n",
    "plt.show\n",
    "#with 16 give, it cannot be odd, cannot be prime, cannot be multiples of 5 or 10, other posteriors are reasonable. "
   ]
  },
  {
   "cell_type": "code",
   "execution_count": 106,
   "metadata": {},
   "outputs": [
    {
     "data": {
      "text/plain": [
       "<function matplotlib.pyplot.show(*args, **kw)>"
      ]
     },
     "execution_count": 106,
     "metadata": {},
     "output_type": "execute_result"
    },
    {
     "data": {
      "image/png": "[encoded data removed]",
      "text/plain": [
       "<Figure size 432x288 with 1 Axes>"
      ]
     },
     "metadata": {
      "needs_background": "light"
     },
     "output_type": "display_data"
    }
   ],
   "source": [
    "#2(f)\n",
    "plt.bar(x_axis, y6, align='center', alpha=0.5)\n",
    "plt.xticks(x_axis,bars)\n",
    "plt.title('2(f)')\n",
    "plt.show\n",
    "#with 10,20 give, it cannot be odd ,cannot be square,cannot be prime, multiples of 10 has a higher chance over multiples of 5 \n",
    "#also makes sense. "
   ]
  },
  {
   "cell_type": "code",
   "execution_count": 107,
   "metadata": {},
   "outputs": [
    {
     "data": {
      "text/plain": [
       "<function matplotlib.pyplot.show(*args, **kw)>"
      ]
     },
     "execution_count": 107,
     "metadata": {},
     "output_type": "execute_result"
    },
    {
     "data": {
      "image/png": "[encoded data removed]",
      "text/plain": [
       "<Figure size 432x288 with 1 Axes>"
      ]
     },
     "metadata": {
      "needs_background": "light"
     },
     "output_type": "display_data"
    }
   ],
   "source": [
    "#2(g)\n",
    "plt.bar(x_axis, y7, align='center', alpha=0.5)\n",
    "plt.xticks(x_axis,bars)\n",
    "plt.title('2(g)')\n",
    "plt.show\n",
    "#with 2,4,8 given, all the other hypothesis are impossible, only possible one are even number hypothsis so it has a probability of 1 after normalization. "
   ]
  },
  {
   "cell_type": "code",
   "execution_count": 108,
   "metadata": {},
   "outputs": [
    {
     "data": {
      "text/plain": [
       "<function matplotlib.pyplot.show(*args, **kw)>"
      ]
     },
     "execution_count": 108,
     "metadata": {},
     "output_type": "execute_result"
    },
    {
     "data": {
      "image/png": "[encoded data removed]",
      "text/plain": [
       "<Figure size 432x288 with 1 Axes>"
      ]
     },
     "metadata": {
      "needs_background": "light"
     },
     "output_type": "display_data"
    }
   ],
   "source": [
    "#2(h)\n",
    "plt.bar(x_axis, y8, align='center', alpha=0.5)\n",
    "plt.xticks(x_axis,bars)\n",
    "plt.title('2(h)')\n",
    "plt.show\n",
    "#with 2,4,8,10 given, all the other hypothesis are impossible, only possible one are even number hypothsis so it has a probability of 1 after normalization. "
   ]
  },
  {
   "cell_type": "code",
   "execution_count": 109,
   "metadata": {},
   "outputs": [],
   "source": [
    "#3. range-based hypothesis question\n",
    "#create range hypothesis\n",
    "range_hypothesis=[]\n",
    "count=0\n",
    "for i in range(1,101):\n",
    "    for j in range(i+2,102):\n",
    "        range_hypothesis.append(range(i,j))\n",
    "        count+=1"
   ]
  },
  {
   "cell_type": "code",
   "execution_count": 115,
   "metadata": {},
   "outputs": [],
   "source": [
    "#3(a)\n",
    "y1=posterior(x1,all_h_withrange)\n",
    "index=list(np.argsort(y1)[-10:])\n",
    "#corresponding hypothesis\n",
    "max_hypothesis_forx1=[all_h_withrange[i] for i in index]\n",
    "#max 10 values to plot\n",
    "max_10_y1=[y1[i] for i in index]\n",
    "#top 10 ranges\n",
    "max_hypothesis_forx1\n",
    "plt.bar(range(10), max_10_y1,align='center', alpha=0.5)\n",
    "plt.xticks(range(10),max_hypothesis_forx1)\n",
    "plt.title('3(b)')\n",
    "plt.show\n",
    "#In theory , with range based hypothesis, it would match our intution more accurately because we consider both range and possible distribution the data \n",
    "#might come from. However, I know that I did not incorrecly cause the range based hypothesis should have a sum of 1/7 probability, \n",
    "# but i give all hypothesis equal probability here. if we consider the range based hypothesis have a sum of 1/7 probability,  the top 10 possible hypotehsis\n",
    "#shoudl make more sense. "
   ]
  },
  {
   "cell_type": "code",
   "execution_count": 111,
   "metadata": {},
   "outputs": [],
   "source": [
    "#3(b)\n",
    "y2=posterior(x2,all_h_withrange)\n",
    "index=list(np.argsort(y2)[-10:])\n",
    "#corresponding hypothesis\n",
    "max_hypothesis_forx2=[all_h_withrange[i] for i in index]\n",
    "#max 10 values to plot\n",
    "max_10_y2=[y2[i] for i in index]\n",
    "#top 10 ranges\n",
    "max_hypothesis_forx2\n",
    "plt.bar(range(10), max_10_y2,align='center', alpha=0.5)\n",
    "plt.xticks(range(10),max_hypothesis_forx2)\n",
    "plt.title('3(b)')\n",
    "plt.show"
   ]
  },
  {
   "cell_type": "code",
   "execution_count": 118,
   "metadata": {},
   "outputs": [
    {
     "data": {
      "text/plain": [
       "<function matplotlib.pyplot.show(*args, **kw)>"
      ]
     },
     "execution_count": 118,
     "metadata": {},
     "output_type": "execute_result"
    },
    {
     "data": {
      "image/png": "[encoded data removed]",
      "text/plain": [
       "<Figure size 432x288 with 1 Axes>"
      ]
     },
     "metadata": {
      "needs_background": "light"
     },
     "output_type": "display_data"
    }
   ],
   "source": [
    "#3(c)\n",
    "y3=posterior(x3,all_h_withrange)\n",
    "index=list(np.argsort(y3)[-10:])\n",
    "#corresponding hypothesis\n",
    "max_hypothesis_forx3=[all_h_withrange[i] for i in index]\n",
    "#max 10 values to plot\n",
    "max_10_y3=[y3[i] for i in index]\n",
    "#top 10 hypothesis\n",
    "max_hypothesis_forx3\n",
    "plt.bar(range(10), max_10_y3,align='center', alpha=0.5)\n",
    "plt.xticks(range(10),max_hypothesis_forx3)\n",
    "plt.title('3(c)')\n",
    "plt.show\n"
   ]
  },
  {
   "cell_type": "code",
   "execution_count": 119,
   "metadata": {},
   "outputs": [
    {
     "data": {
      "text/plain": [
       "<function matplotlib.pyplot.show(*args, **kw)>"
      ]
     },
     "execution_count": 119,
     "metadata": {},
     "output_type": "execute_result"
    },
    {
     "data": {
      "image/png": "[encoded data removed]",
      "text/plain": [
       "<Figure size 432x288 with 1 Axes>"
      ]
     },
     "metadata": {
      "needs_background": "light"
     },
     "output_type": "display_data"
    }
   ],
   "source": [
    "#3(d)\n",
    "y4=posterior(x4,all_h_withrange)\n",
    "index=list(np.argsort(y4)[-10:])\n",
    "#corresponding hypothesis\n",
    "max_hypothesis_forx4=[all_h_withrange[i] for i in index]\n",
    "#max 10 values to plot\n",
    "max_10_y4=[y4[i] for i in index]\n",
    "#top 10 hypothesis\n",
    "max_hypothesis_forx4\n",
    "plt.bar(range(10), max_10_y4,align='center', alpha=0.5)\n",
    "plt.xticks(range(10),max_hypothesis_forx4)\n",
    "plt.title('3(d)')\n",
    "plt.show\n",
    "\n"
   ]
  },
  {
   "cell_type": "code",
   "execution_count": 120,
   "metadata": {},
   "outputs": [
    {
     "data": {
      "text/plain": [
       "<function matplotlib.pyplot.show(*args, **kw)>"
      ]
     },
     "execution_count": 120,
     "metadata": {},
     "output_type": "execute_result"
    },
    {
     "data": {
      "image/png": "[encoded data removed]",
      "text/plain": [
       "<Figure size 432x288 with 1 Axes>"
      ]
     },
     "metadata": {
      "needs_background": "light"
     },
     "output_type": "display_data"
    }
   ],
   "source": [
    "#3(e)\n",
    "y5=posterior(x5,all_h_withrange)\n",
    "index=list(np.argsort(y5)[-10:])\n",
    "#corresponding hypothesis\n",
    "max_hypothesis_forx5=[all_h_withrange[i] for i in index]\n",
    "#max 10 values to plot\n",
    "max_10_y5=[y5[i] for i in index]\n",
    "#top 10 hypothesis\n",
    "max_hypothesis_forx5\n",
    "plt.bar(range(10), max_10_y5,align='center', alpha=0.5)\n",
    "plt.xticks(range(10),max_hypothesis_forx5)\n",
    "plt.title('3(d)')\n",
    "plt.show"
   ]
  },
  {
   "cell_type": "code",
   "execution_count": 121,
   "metadata": {},
   "outputs": [
    {
     "data": {
      "text/plain": [
       "<function matplotlib.pyplot.show(*args, **kw)>"
      ]
     },
     "execution_count": 121,
     "metadata": {},
     "output_type": "execute_result"
    },
    {
     "data": {
      "image/png": "[encoded data removed]",
      "text/plain": [
       "<Figure size 432x288 with 1 Axes>"
      ]
     },
     "metadata": {
      "needs_background": "light"
     },
     "output_type": "display_data"
    }
   ],
   "source": [
    "#3(f)\n",
    "y6=posterior(x6,all_h_withrange)\n",
    "index=list(np.argsort(y6)[-10:])\n",
    "#corresponding hypothesis\n",
    "max_hypothesis_forx6=[all_h_withrange[i] for i in index]\n",
    "#max 10 values to plot\n",
    "max_10_y6=[y6[i] for i in index]\n",
    "#top 10 hypothesis\n",
    "max_hypothesis_forx6\n",
    "plt.bar(range(10), max_10_y6,align='center', alpha=0.5)\n",
    "plt.xticks(range(10),max_hypothesis_forx6)\n",
    "plt.title('3(d)')\n",
    "plt.show"
   ]
  },
  {
   "cell_type": "code",
   "execution_count": 122,
   "metadata": {},
   "outputs": [
    {
     "data": {
      "text/plain": [
       "<function matplotlib.pyplot.show(*args, **kw)>"
      ]
     },
     "execution_count": 122,
     "metadata": {},
     "output_type": "execute_result"
    },
    {
     "data": {
      "image/png": "[encoded data removed]",
      "text/plain": [
       "<Figure size 432x288 with 1 Axes>"
      ]
     },
     "metadata": {
      "needs_background": "light"
     },
     "output_type": "display_data"
    }
   ],
   "source": [
    "#3(g)\n",
    "y7=posterior(x7,all_h_withrange)\n",
    "index=list(np.argsort(y7)[-10:])\n",
    "#corresponding hypothesis\n",
    "max_hypothesis_forx7=[all_h_withrange[i] for i in index]\n",
    "#max 10 values to plot\n",
    "max_10_y7=[y7[i] for i in index]\n",
    "#top 10 hypothesis\n",
    "max_hypothesis_forx7\n",
    "plt.bar(range(10), max_10_y7,align='center', alpha=0.5)\n",
    "plt.xticks(range(10),max_hypothesis_forx7)\n",
    "plt.title('3(d)')\n",
    "plt.show"
   ]
  },
  {
   "cell_type": "code",
   "execution_count": 123,
   "metadata": {},
   "outputs": [
    {
     "data": {
      "text/plain": [
       "<function matplotlib.pyplot.show(*args, **kw)>"
      ]
     },
     "execution_count": 123,
     "metadata": {},
     "output_type": "execute_result"
    },
    {
     "data": {
      "image/png": "[encoded data removed]",
      "text/plain": [
       "<Figure size 432x288 with 1 Axes>"
      ]
     },
     "metadata": {
      "needs_background": "light"
     },
     "output_type": "display_data"
    }
   ],
   "source": [
    "#3(h)\n",
    "y8=posterior(x8,all_h_withrange)\n",
    "index=list(np.argsort(y8)[-10:])\n",
    "#corresponding hypothesis\n",
    "max_hypothesis_forx8=[all_h_withrange[i] for i in index]\n",
    "#max 10 values to plot\n",
    "max_10_y8=[y8[i] for i in index]\n",
    "#top 10 hypothesis\n",
    "max_hypothesis_forx8\n",
    "plt.bar(range(10), max_10_y8,align='center', alpha=0.5)\n",
    "plt.xticks(range(10),max_hypothesis_forx8)\n",
    "plt.title('3(d)')\n",
    "plt.show"
   ]
  },
  {
   "cell_type": "code",
   "execution_count": null,
   "metadata": {},
   "outputs": [],
   "source": []
  }
 ],
 "metadata": {
  "kernelspec": {
   "display_name": "Python 3",
   "language": "python",
   "name": "python3"
  },
  "language_info": {
   "codemirror_mode": {
    "name": "ipython",
    "version": 3
   },
   "file_extension": ".py",
   "mimetype": "text/x-python",
   "name": "python",
   "nbconvert_exporter": "python",
   "pygments_lexer": "ipython3",
   "version": "3.7.1"
  }
 },
 "nbformat": 4,
 "nbformat_minor": 2
}
