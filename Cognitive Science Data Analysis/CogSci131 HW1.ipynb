{
 "cells": [
  {
   "cell_type": "code",
   "execution_count": 25,
   "metadata": {},
   "outputs": [],
   "source": [
    "%matplotlib inline\n",
    "import matplotlib.pyplot as plt\n",
    "import numpy as np\n",
    "from math import*"
   ]
  },
  {
   "cell_type": "code",
   "execution_count": 43,
   "metadata": {},
   "outputs": [
    {
     "data": {
      "image/png": "[encoded data removed]",
      "text/plain": [
       "<Figure size 432x288 with 1 Axes>"
      ]
     },
     "metadata": {
      "needs_background": "light"
     },
     "output_type": "display_data"
    }
   ],
   "source": [
    "#1a. Suppose that an ant wandered randomly by taking steps (x,y), one per second, where at each ant step, x and y \n",
    "#come from a normal distribution with a mean of 0 and a standard deviation of 1.0mm (assume this for all questions below). \n",
    "#Plot a trace of the ant’s path over the course of an hour.\n",
    "x=0\n",
    "y=0\n",
    "plt.scatter(0,0, color='red')\n",
    "for i in range(1,3600): #3600s for an hour\n",
    "    right=np.random.normal(0,1,1)\n",
    "    up=np.random.normal(0,1,1)\n",
    "    x+=right\n",
    "    y+=up\n",
    "    plt.scatter(x,y,color='blue')\n",
    "\n",
    "plt.show()\n",
    "\n",
    "\n",
    "\n"
   ]
  },
  {
   "cell_type": "code",
   "execution_count": 13,
   "metadata": {},
   "outputs": [
    {
     "name": "stdout",
     "output_type": "stream",
     "text": [
      "0.205\n"
     ]
    }
   ],
   "source": [
    "#1b.Let’s think about why ants need to perform path integration. Suppose that instead of path integration, when an ant found food, it just continued to wander with random steps until it got back to the nest. Using a simulation, find the probability that an ant who finds food after 1 hour will make its way back to within 10mm of the nest over the course of the next hour (note that if it comes within 10mm of a nest, it stops). \n",
    "#Is this a good strategy? Why or why not?\n",
    "#denote start point as (0,0), record food location. keep wanfering, check if currnet location is within (-10,10) in both x and y directions. \n",
    "def homerun1():\n",
    "    x=0\n",
    "    y=0\n",
    "    for i in range(1,3601): #left include right exclude\n",
    "        right=np.random.normal(0,1,1)\n",
    "        up=np.random.normal(0,1,1)\n",
    "        x+=right#one step in x direction\n",
    "        y+=up#one step in y direction. x,y denotes food location\n",
    "    time_back=1\n",
    "    while(time_back<=3600):\n",
    "        right=np.random.normal(0,1,1)\n",
    "        up=np.random.normal(0,1,1)\n",
    "        x+=right\n",
    "        y+=up\n",
    "        if x**2+y**2 < 100:\n",
    "            return True\n",
    "        else:\n",
    "            time_back+=1      \n",
    "\n",
    "count=0\n",
    "for i in range(1,1001):\n",
    "    if homerun1()==True:\n",
    "        count+=1\n",
    "\n",
    "prob=count/1000\n",
    "print(prob)\n",
    "\n",
    "#no,this is not a good strategy, because the probability of returning to within a range of the nest with food is pretty low. "
   ]
  },
  {
   "cell_type": "code",
   "execution_count": 49,
   "metadata": {},
   "outputs": [
    {
     "data": {
      "text/plain": [
       "0.7452743539145392"
      ]
     },
     "execution_count": 49,
     "metadata": {},
     "output_type": "execute_result"
    }
   ],
   "source": [
    "#1c. what is the random closest distance to the nest?\n",
    "min_dis=[]\n",
    "for i in range(1,1001):\n",
    "    for j in range(1,3601): #left include right exclude\n",
    "        x=0\n",
    "        y=0\n",
    "        right=np.random.normal(0,1,1)\n",
    "        up=np.random.normal(0,1,1)\n",
    "        x+=right\n",
    "        y+=up\n",
    "    distance=[]\n",
    "    for k in range (1,3601):\n",
    "        right=np.random.normal(0,1,1)\n",
    "        up=np.random.normal(0,1,1)\n",
    "        x+=right\n",
    "        y+=up\n",
    "        distance.append(sqrt(x**2+y**2))\n",
    "    min_dis.append(min(distance))\n",
    "\n",
    "\n",
    "avg=np.mean(min_dis)\n",
    "avg\n",
    "\n",
    "    "
   ]
  },
  {
   "cell_type": "code",
   "execution_count": 59,
   "metadata": {},
   "outputs": [
    {
     "data": {
      "image/png": "[encoded data removed]",
      "text/plain": [
       "<Figure size 432x288 with 1 Axes>"
      ]
     },
     "metadata": {
      "needs_background": "light"
     },
     "output_type": "display_data"
    }
   ],
   "source": [
    "#2. show a range of s values to show what is going on. First we use a fixed S as the noise.  Using x to record step size, X to record accumulative steps. \n",
    "X=0\n",
    "Y=0\n",
    "x=0\n",
    "y=0\n",
    "mean_dis=[]\n",
    "for s in range(1, 10001, 100):\n",
    "    s = s*10**(-4)\n",
    "    distance=[]\n",
    "    for i in range(1,101) :\n",
    "        for j in range(1,3601): \n",
    "            right=np.random.normal(0,1,1)\n",
    "            up=np.random.normal(0,1,1)\n",
    "            ex=np.random.normal(0,s,1)\n",
    "            ey=np.random.normal(0,s,1)\n",
    "            x+=right #actual location\n",
    "            X=X+right+ex #memorizede location\n",
    "            y+=up \n",
    "            Y=Y+up+ey\n",
    "        distance.append(sqrt((X-x)**2+(Y-y)**2))\n",
    "    mean_dis.append(np.mean(distance))\n",
    "\n",
    "    \n",
    "mean_dis\n",
    "\n",
    "x=np.linspace(0.0001,1,100)\n",
    "y=mean_dis\n",
    "plt.plot(x, y, linewidth=2.0)\n",
    "plt.show()\n",
    "#conclusion: as s becomes greater, the mean distance from the ants to the nest becomes greater. They are positively related to each other. \n"
   ]
  },
  {
   "cell_type": "code",
   "execution_count": 60,
   "metadata": {},
   "outputs": [
    {
     "data": {
      "image/png": "[encoded data removed]",
      "text/plain": [
       "<Figure size 432x288 with 1 Axes>"
      ]
     },
     "metadata": {
      "needs_background": "light"
     },
     "output_type": "display_data"
    }
   ],
   "source": [
    "#3a.\n",
    "X=0\n",
    "Y=0\n",
    "x=0\n",
    "y=0\n",
    "mean_dis=[]\n",
    "mean_energy=[]\n",
    "for s in range(1, 10001, 100):\n",
    "    s = s*10**(-4)\n",
    "    distance=[]\n",
    "    energy=[]\n",
    "    for i in range(1,101) :\n",
    "        for j in range(1,3601): \n",
    "            right=np.random.normal(0,1,1)\n",
    "            up=np.random.normal(0,1,1)\n",
    "            ex=np.random.normal(0,s,1)\n",
    "            ey=np.random.normal(0,s,1)\n",
    "            x+=right #actual location\n",
    "            X=X+right+ex #memorizede location\n",
    "            y+=up \n",
    "            Y=Y+up+ey\n",
    "        distance.append(sqrt((X-x)**2+(Y-y)**2))\n",
    "        energy.append(((X-x)**2+(Y-y)**2)+np.exp(0.1/s))\n",
    "    mean_dis.append(np.mean(distance))\n",
    "    mean_energy.append(np.mean(energy))\n",
    "\n",
    "    \n",
    "mean_energy\n",
    "x=np.linspace(0.0001,1,100)\n",
    "y=mean_energy\n",
    "plt.plot(x, y, linewidth=2.0)\n",
    "plt.show()\n",
    "#conclusion: the minimum acheives at when s is relatively small but not the smallest. \n",
    "\n",
    "\n",
    "\n",
    "\n"
   ]
  },
  {
   "cell_type": "code",
   "execution_count": null,
   "metadata": {},
   "outputs": [],
   "source": [
    "#3b.\n",
    "#Evolutionary significance\n",
    "#Supposing that s1 is the sd which acheives minimum energy consumption. And suppose that ants might have different s values. The ants who have s=s1\n",
    "#will acheive minimal energy consumption while searching food, thus have a higher chance of survival. Evolutionaryly, these ants with s1 will give birth to more \n",
    "#offsprings. In the long run, in the ant colony, number of ants with s1 as their food search standard deviation will become more and more. In other words, ants colony\n",
    "#will evolve into the direction that acheives minimum energy consumption( food searcd standard deviation =s1)\n",
    "\n",
    "\n"
   ]
  }
 ],
 "metadata": {
  "kernelspec": {
   "display_name": "Python 3",
   "language": "python",
   "name": "python3"
  },
  "language_info": {
   "codemirror_mode": {
    "name": "ipython",
    "version": 3
   },
   "file_extension": ".py",
   "mimetype": "text/x-python",
   "name": "python",
   "nbconvert_exporter": "python",
   "pygments_lexer": "ipython3",
   "version": "3.7.1"
  }
 },
 "nbformat": 4,
 "nbformat_minor": 2
}
